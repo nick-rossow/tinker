{
 "cells": [
  {
   "cell_type": "code",
   "execution_count": 10,
   "metadata": {},
   "outputs": [
    {
     "name": "stdout",
     "output_type": "stream",
     "text": [
      "Requirement already satisfied: pyreadstat in c:\\users\\s1174959\\appdata\\local\\continuum\\anaconda3\\lib\\site-packages (0.2.5)\n"
     ]
    }
   ],
   "source": [
    "!pip install pyreadstat"
   ]
  },
  {
   "cell_type": "code",
   "execution_count": 11,
   "metadata": {},
   "outputs": [],
   "source": [
    "import requests\n",
    "import json\n",
    "import pyreadstat\n",
    "import numpy as np\n",
    "import matplotlib.pyplot as plt"
   ]
  },
  {
   "cell_type": "code",
   "execution_count": 12,
   "metadata": {},
   "outputs": [],
   "source": [
    "host = 'dataverse.ada.edu.au'                  # All clients >4.0 are supported\n",
    "token = 'd35cf68f-b356-421d-97eb-2adeda9dfd7e'  # Generated at /account/apitoken\n",
    "headers = {'X-Dataverse-key' : token }"
   ]
  },
  {
   "cell_type": "code",
   "execution_count": 13,
   "metadata": {},
   "outputs": [],
   "source": [
    "# Get the datacerse, datasets and filesi for AES dataverse\n",
    "url = 'https://dataverse.ada.edu.au/api/search?q=AES&type=dataverse&type=dataset&type=file&per_page=10&sort=name&order=asc'\n",
    "r1 = requests.get(url, headers = headers)\n",
    "data = json.loads(r1.content).get('data')\n",
    "#print(data['items'])"
   ]
  },
  {
   "cell_type": "code",
   "execution_count": 14,
   "metadata": {},
   "outputs": [],
   "source": [
    "# Get the dataset by doi\n",
    "url = 'https://dataverse.ada.edu.au/api/datasets/:persistentId/?persistentId=doi:10.4225/87/7OZCZA'\n",
    "r1 = requests.get(url, headers = headers)\n",
    "data = json.loads(r1.content).get('data')\n",
    "#print(data)"
   ]
  },
  {
   "cell_type": "code",
   "execution_count": 8,
   "metadata": {},
   "outputs": [],
   "source": [
    "# Get the files for dataset with specified dataset id\n",
    "# Extract tte dataset id\n",
    "dsid  = data.get('id')\n",
    "url = 'https://dataverse.ada.edu.au/api/datasets/{id}/versions/:latest/files'.format(id=dsid)\n",
    "r1 = requests.get(url, headers = headers)\n",
    "data = json.loads(r1.content).get('data')\n",
    "#print(data)"
   ]
  },
  {
   "cell_type": "code",
   "execution_count": 9,
   "metadata": {},
   "outputs": [],
   "source": [
    "fileid = data[8].get('dataFile').get('id')\n",
    "url = 'https://dataverse.ada.edu.au/api/access/datafile/{id}?format=original'.format(id=fileid)\n",
    "r1 = requests.get(url, headers = headers)\n",
    "data = r1.content\n",
    "#print(data)"
   ]
  },
  {
   "cell_type": "code",
   "execution_count": 10,
   "metadata": {},
   "outputs": [
    {
     "data": {
      "text/plain": [
       "3291918"
      ]
     },
     "execution_count": 10,
     "metadata": {},
     "output_type": "execute_result"
    }
   ],
   "source": [
    "# Save the data\n",
    "aes_file = open('aes_file.sav', mode='wb')\n",
    "aes_file.write(r1.content)"
   ]
  },
  {
   "cell_type": "code",
   "execution_count": 12,
   "metadata": {},
   "outputs": [
    {
     "data": {
      "image/png": "[encoded data removed]",
      "text/plain": [
       "<Figure size 432x288 with 1 Axes>"
      ]
     },
     "metadata": {
      "needs_background": "light"
     },
     "output_type": "display_data"
    }
   ],
   "source": [
    "# read the saved file, and plot histogram count\n",
    "df, meta = pyreadstat.read_sav('aes_file.sav')\n",
    "c1 = df.A1.value_counts(dropna=False, ascending=True)\n",
    "cat_values = meta.variable_value_labels['A1']\n",
    "n, bins, patches = plt.hist(x=df.A1)\n",
    "plt.title(\"How much attention would you say you pay to politics in general?\")\n",
    "plt.xlabel('A1')\n",
    "plt.ylabel('count')\n",
    "plt.show()"
   ]
  },
  {
   "cell_type": "code",
   "execution_count": 13,
   "metadata": {},
   "outputs": [
    {
     "data": {
      "image/png": "[encoded data removed]",
      "text/plain": [
       "<Figure size 432x288 with 1 Axes>"
      ]
     },
     "metadata": {
      "needs_background": "light"
     },
     "output_type": "display_data"
    }
   ],
   "source": [
    "# plot the bar-chart with labels\n",
    "r1 = { cat_values[i] if str(i) != 'nan' else 'nan': c1[i] for i in sorted(c1.keys()) }\n",
    "plt.bar(r1.keys(), r1.values())\n",
    "plt.title(\"How much attention would you say you pay to politics in general?\")\n",
    "plt.xlabel('A1')\n",
    "plt.ylabel('count')\n",
    "plt.show()\n"
   ]
  },
  {
   "cell_type": "code",
   "execution_count": null,
   "metadata": {},
   "outputs": [],
   "source": []
  }
 ],
 "metadata": {
  "kernelspec": {
   "display_name": "Python 3",
   "language": "python",
   "name": "python3"
  },
  "language_info": {
   "codemirror_mode": {
    "name": "ipython",
    "version": 3
   },
   "file_extension": ".py",
   "mimetype": "text/x-python",
   "name": "python",
   "nbconvert_exporter": "python",
   "pygments_lexer": "ipython3",
   "version": "3.7.3"
  }
 },
 "nbformat": 4,
 "nbformat_minor": 2
}
