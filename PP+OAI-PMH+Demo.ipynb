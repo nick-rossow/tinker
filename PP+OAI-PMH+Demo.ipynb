{
 "cells": [
  {
   "cell_type": "markdown",
   "metadata": {},
   "source": [
    "# Prosecution Project OAI-PMH Demo"
   ]
  },
  {
   "cell_type": "code",
   "execution_count": 1,
   "metadata": {
    "collapsed": true
   },
   "outputs": [],
   "source": [
    "# pyoai provides a nice python API for OAI-PMH (http://infrae.com/download/OAI/pyoai)\n",
    "from oaipmh.client import Client\n",
    "from oaipmh.metadata import MetadataRegistry, oai_dc_reader\n",
    "# other libraries we'll use\n",
    "from datetime import datetime\n",
    "from collections import defaultdict\n",
    "from IPython.display import HTML, display\n",
    "import tabulate"
   ]
  },
  {
   "cell_type": "markdown",
   "metadata": {},
   "source": [
    "Simple OAI-PMH harvester in Python:"
   ]
  },
  {
   "cell_type": "code",
   "execution_count": 2,
   "metadata": {},
   "outputs": [
    {
     "name": "stdout",
     "output_type": "stream",
     "text": [
      "Harvested 94388 records in 499.207413 seconds\n"
     ]
    }
   ],
   "source": [
    "URL = 'https://oai.prosecutionproject-test.griffith.edu.au/oai'\n",
    "records = []\n",
    "\n",
    "# setup harvester\n",
    "registry = MetadataRegistry()\n",
    "registry.registerReader('oai_dc', oai_dc_reader)\n",
    "client = Client(URL, registry, force_http_get=True)\n",
    "\n",
    "# track the start time of the harvest\n",
    "_start = datetime.now()\n",
    "\n",
    "# fetch all records from oai\n",
    "for record in client.listRecords(metadataPrefix='oai_dc'):\n",
    "    records.append(record[1].getMap())\n",
    "    \n",
    "# record finish time\n",
    "_finish = datetime.now()\n",
    "\n",
    "# work out how long the harvester took\n",
    "t_d = (_finish-_start).total_seconds()\n",
    "print(\"Harvested {} records in {} seconds\".format(len(records), t_d))"
   ]
  },
  {
   "cell_type": "markdown",
   "metadata": {},
   "source": [
    "Create a naive top 10 list of the most common offences in the data"
   ]
  },
  {
   "cell_type": "code",
   "execution_count": 15,
   "metadata": {},
   "outputs": [
    {
     "data": {
      "text/html": [
       "<table>\n",
       "<thead>\n",
       "<tr><th>Offence        </th><th style=\"text-align: right;\">  Total</th><th style=\"text-align: right;\">  NSW</th><th style=\"text-align: right;\">  NT</th><th style=\"text-align: right;\">  QLD</th><th style=\"text-align: right;\">  SA</th><th style=\"text-align: right;\">  TAS</th><th style=\"text-align: right;\">  VIC</th><th style=\"text-align: right;\">  WA</th></tr>\n",
       "</thead>\n",
       "<tbody>\n",
       "<tr><td>Larceny        </td><td style=\"text-align: right;\">  11850</td><td style=\"text-align: right;\">  952</td><td style=\"text-align: right;\">  35</td><td style=\"text-align: right;\"> 1695</td><td style=\"text-align: right;\">2550</td><td style=\"text-align: right;\"> 1827</td><td style=\"text-align: right;\"> 3711</td><td style=\"text-align: right;\">1080</td></tr>\n",
       "<tr><td>Murder         </td><td style=\"text-align: right;\">   3426</td><td style=\"text-align: right;\"> 1005</td><td style=\"text-align: right;\">  84</td><td style=\"text-align: right;\">  494</td><td style=\"text-align: right;\"> 190</td><td style=\"text-align: right;\">  208</td><td style=\"text-align: right;\">  831</td><td style=\"text-align: right;\"> 614</td></tr>\n",
       "<tr><td>Forgery        </td><td style=\"text-align: right;\">   3195</td><td style=\"text-align: right;\">  572</td><td style=\"text-align: right;\">   4</td><td style=\"text-align: right;\">  351</td><td style=\"text-align: right;\"> 341</td><td style=\"text-align: right;\">  457</td><td style=\"text-align: right;\"> 1139</td><td style=\"text-align: right;\"> 331</td></tr>\n",
       "<tr><td>Horse Stealing </td><td style=\"text-align: right;\">   2765</td><td style=\"text-align: right;\">  689</td><td style=\"text-align: right;\">   6</td><td style=\"text-align: right;\">  833</td><td style=\"text-align: right;\"> 169</td><td style=\"text-align: right;\">  180</td><td style=\"text-align: right;\">  743</td><td style=\"text-align: right;\"> 145</td></tr>\n",
       "<tr><td>Housebreaking  </td><td style=\"text-align: right;\">   2633</td><td style=\"text-align: right;\">    8</td><td style=\"text-align: right;\">  12</td><td style=\"text-align: right;\">   52</td><td style=\"text-align: right;\"> 345</td><td style=\"text-align: right;\">  456</td><td style=\"text-align: right;\"> 1685</td><td style=\"text-align: right;\">  75</td></tr>\n",
       "<tr><td>False Pretences</td><td style=\"text-align: right;\">   2589</td><td style=\"text-align: right;\">  216</td><td style=\"text-align: right;\">   7</td><td style=\"text-align: right;\">  592</td><td style=\"text-align: right;\"> 396</td><td style=\"text-align: right;\">  224</td><td style=\"text-align: right;\">  899</td><td style=\"text-align: right;\"> 255</td></tr>\n",
       "<tr><td>Perjury        </td><td style=\"text-align: right;\">   2221</td><td style=\"text-align: right;\">  265</td><td style=\"text-align: right;\">  11</td><td style=\"text-align: right;\">  166</td><td style=\"text-align: right;\"> 101</td><td style=\"text-align: right;\">  330</td><td style=\"text-align: right;\"> 1250</td><td style=\"text-align: right;\">  98</td></tr>\n",
       "<tr><td>Burglary       </td><td style=\"text-align: right;\">   1998</td><td style=\"text-align: right;\">  211</td><td style=\"text-align: right;\">   2</td><td style=\"text-align: right;\">  140</td><td style=\"text-align: right;\"> 152</td><td style=\"text-align: right;\">  562</td><td style=\"text-align: right;\">  799</td><td style=\"text-align: right;\"> 132</td></tr>\n",
       "<tr><td>Manslaughter   </td><td style=\"text-align: right;\">   1971</td><td style=\"text-align: right;\">  674</td><td style=\"text-align: right;\">  15</td><td style=\"text-align: right;\">  156</td><td style=\"text-align: right;\"> 118</td><td style=\"text-align: right;\">  114</td><td style=\"text-align: right;\">  679</td><td style=\"text-align: right;\"> 215</td></tr>\n",
       "<tr><td>Stealing       </td><td style=\"text-align: right;\">   1954</td><td style=\"text-align: right;\">  447</td><td style=\"text-align: right;\">  62</td><td style=\"text-align: right;\">  865</td><td style=\"text-align: right;\">   7</td><td style=\"text-align: right;\">    3</td><td style=\"text-align: right;\">   38</td><td style=\"text-align: right;\"> 532</td></tr>\n",
       "</tbody>\n",
       "</table>"
      ],
      "text/plain": [
       "<IPython.core.display.HTML object>"
      ]
     },
     "metadata": {},
     "output_type": "display_data"
    }
   ],
   "source": [
    "# do a simple occurence count of offences (witout any datacleaning)\n",
    "offences = defaultdict(int)\n",
    "offpjur = defaultdict(lambda: defaultdict(int))\n",
    "jurisdiction = set()\n",
    "for _rec in records: \n",
    "    _offence = _rec['title'][0].split(',')[1].strip().title()\n",
    "    _jurisdiction = _rec['identifier'][0].split(':')[-1].split('/')[0]\n",
    "    jurisdiction.add(_jurisdiction)\n",
    "    offences[_offence] += 1    \n",
    "    offpjur[_jurisdiction][_offence] += 1\n",
    "    \n",
    "# remove unknown offences\n",
    "del(offences['[Unknown Offence]'])\n",
    "\n",
    "# find the top 10 offences across all records and juristictions \n",
    "top10 = [[_of, _count] for _of, _count in sorted(offences.items(), reverse=True, key=lambda x: x[1])[:10]]\n",
    "# Add the counts for each juristiction\n",
    "top10 = [row + [offpjur[_j][row[0]] for _j in sorted(list(jurisdiction))] for row in top10]\n",
    "\n",
    "# make it look pretty\n",
    "_headers = ['Offence', 'Total']+[x.replace('SC','') for x in sorted(list(jurisdiction))]\n",
    "display(HTML(tabulate.tabulate(top10, tablefmt='html', headers=_headers)))"
   ]
  },
  {
   "cell_type": "code",
   "execution_count": null,
   "metadata": {
    "collapsed": true
   },
   "outputs": [],
   "source": []
  }
 ],
 "metadata": {
  "kernelspec": {
   "display_name": "Python 3",
   "language": "python",
   "name": "python3"
  },
  "language_info": {
   "codemirror_mode": {
    "name": "ipython",
    "version": 3
   },
   "file_extension": ".py",
   "mimetype": "text/x-python",
   "name": "python",
   "nbconvert_exporter": "python",
   "pygments_lexer": "ipython3",
   "version": "3.5.3"
  }
 },
 "nbformat": 4,
 "nbformat_minor": 2
}
